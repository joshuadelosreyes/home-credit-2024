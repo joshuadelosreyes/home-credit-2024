{
  "metadata": {
    "kernelspec": {
      "language": "python",
      "display_name": "Python 3",
      "name": "python3"
    },
    "language_info": {
      "name": "python",
      "version": "3.10.12",
      "mimetype": "text/x-python",
      "codemirror_mode": {
        "name": "ipython",
        "version": 3
      },
      "pygments_lexer": "ipython3",
      "nbconvert_exporter": "python",
      "file_extension": ".py"
    },
    "kaggle": {
      "accelerator": "none",
      "dataSources": [
        {
          "sourceId": 50160,
          "databundleVersionId": 7602123,
          "sourceType": "competition"
        }
      ],
      "dockerImageVersionId": 30635,
      "isInternetEnabled": false,
      "language": "python",
      "sourceType": "notebook",
      "isGpuEnabled": false
    },
    "colab": {
      "provenance": []
    }
  },
  "nbformat_minor": 0,
  "nbformat": 4,
  "cells": [
    {
      "cell_type": "markdown",
      "source": [
        "**Home Credit - Credit Risk Model Stability**\n",
        "\n",
        "The goal here is to predict which clients are more likely to default on their loans.\n",
        "\n",
        "I will be using:\n",
        "* pandas (for data manipulation and analysis)\n",
        "* numpy (for working with arrays)\n",
        "* Polars (Dataframes powered by a multithreaded, vectorized query engine, written in Rust)\n",
        "* scikit-learn (to split data into random train and test subsets and to compute area under the receiver operating characteristic curve, ROC AUC, from prediction scores)\n",
        "* LightGBM (gradient boosting framework that uses tree based learning algorithms)"
      ],
      "metadata": {
        "_uuid": "8f2839f25d086af736a60e9eeb907d3b93b6e0e5",
        "_cell_guid": "b1076dfc-b9ad-4769-8c92-a6c4dae69d19",
        "id": "MfBLmhM3jB3b"
      }
    },
    {
      "cell_type": "code",
      "source": [
        "# importing libraries and locating dataset\n",
        "\n",
        "import pandas as pd\n",
        "import numpy as np\n",
        "import polars as pl\n",
        "from sklearn.model_selection import train_test_split\n",
        "from sklearn.metrics import roc_auc_score\n",
        "import lightgbm as lgb\n",
        "\n",
        "dataPath = \"/kaggle/input/home-credit-credit-risk-model-stability/\""
      ],
      "metadata": {
        "execution": {
          "iopub.status.busy": "2024-02-07T21:24:50.023647Z",
          "iopub.execute_input": "2024-02-07T21:24:50.024915Z",
          "iopub.status.idle": "2024-02-07T21:24:54.729412Z",
          "shell.execute_reply.started": "2024-02-07T21:24:50.024838Z",
          "shell.execute_reply": "2024-02-07T21:24:54.728256Z"
        },
        "trusted": true,
        "id": "mubwetvzjB3q"
      },
      "execution_count": null,
      "outputs": []
    },
    {
      "cell_type": "code",
      "source": [
        "# Modify dtypes using the Polars library\n",
        "\n",
        "def set_table_dtypes(df: pl.DataFrame) -> pl.DataFrame:\n",
        "    # implement here all desired dtypes for tables\n",
        "    # the following is just an example\n",
        "    for col in df.columns:\n",
        "        # last letter of column name will help you determine the type\n",
        "        if col[-1] in (\"P\", \"A\"):\n",
        "            df = df.with_columns(pl.col(col).cast(pl.Float64).alias(col))\n",
        "\n",
        "    return df\n",
        "\n",
        "# Handle string-like columns using pandas\n",
        "\n",
        "def convert_strings(df: pd.DataFrame) -> pd.DataFrame:\n",
        "    for col in df.columns:\n",
        "        if df[col].dtype.name in ['object', 'string']:\n",
        "            df[col] = df[col].astype(\"string\").astype('category')\n",
        "            current_categories = df[col].cat.categories\n",
        "            new_categories = current_categories.to_list() + [\"Unknown\"]\n",
        "            new_dtype = pd.CategoricalDtype(categories=new_categories, ordered=True)\n",
        "            df[col] = df[col].astype(new_dtype)\n",
        "    return df"
      ],
      "metadata": {
        "execution": {
          "iopub.status.busy": "2024-02-07T21:24:54.732337Z",
          "iopub.execute_input": "2024-02-07T21:24:54.733356Z",
          "iopub.status.idle": "2024-02-07T21:24:54.746195Z",
          "shell.execute_reply.started": "2024-02-07T21:24:54.733288Z",
          "shell.execute_reply": "2024-02-07T21:24:54.744741Z"
        },
        "trusted": true,
        "id": "3Wgk3zdZjB3s"
      },
      "execution_count": null,
      "outputs": []
    },
    {
      "cell_type": "code",
      "source": [
        "# For the training set, load csv files and combine files that have similar types of data\n",
        "\n",
        "train_basetable = pl.read_csv(dataPath + \"csv_files/train/train_base.csv\")\n",
        "train_static = pl.concat(\n",
        "    [\n",
        "        pl.read_csv(dataPath + \"csv_files/train/train_static_0_0.csv\").pipe(set_table_dtypes),\n",
        "        pl.read_csv(dataPath + \"csv_files/train/train_static_0_1.csv\").pipe(set_table_dtypes),\n",
        "    ],\n",
        "    how=\"vertical_relaxed\",\n",
        ")\n",
        "train_static_cb = pl.read_csv(dataPath + \"csv_files/train/train_static_cb_0.csv\").pipe(set_table_dtypes)\n",
        "train_person_1 = pl.read_csv(dataPath + \"csv_files/train/train_person_1.csv\").pipe(set_table_dtypes)\n",
        "train_credit_bureau_b_2 = pl.read_csv(dataPath + \"csv_files/train/train_credit_bureau_b_2.csv\").pipe(set_table_dtypes)"
      ],
      "metadata": {
        "execution": {
          "iopub.status.busy": "2024-02-07T21:24:54.749698Z",
          "iopub.execute_input": "2024-02-07T21:24:54.751423Z",
          "iopub.status.idle": "2024-02-07T21:25:16.159261Z",
          "shell.execute_reply.started": "2024-02-07T21:24:54.751353Z",
          "shell.execute_reply": "2024-02-07T21:25:16.158289Z"
        },
        "trusted": true,
        "id": "zrsnudzEjB3t"
      },
      "execution_count": null,
      "outputs": []
    },
    {
      "cell_type": "code",
      "source": [
        "# # For the test set, load csv files and combine files that have similar types of data\n",
        "\n",
        "test_basetable = pl.read_csv(dataPath + \"csv_files/test/test_base.csv\")\n",
        "test_static = pl.concat(\n",
        "    [\n",
        "        pl.read_csv(dataPath + \"csv_files/test/test_static_0_0.csv\").pipe(set_table_dtypes),\n",
        "        pl.read_csv(dataPath + \"csv_files/test/test_static_0_1.csv\").pipe(set_table_dtypes),\n",
        "        pl.read_csv(dataPath + \"csv_files/test/test_static_0_2.csv\").pipe(set_table_dtypes),\n",
        "    ],\n",
        "    how=\"vertical_relaxed\",\n",
        ")\n",
        "test_static_cb = pl.read_csv(dataPath + \"csv_files/test/test_static_cb_0.csv\").pipe(set_table_dtypes)\n",
        "test_person_1 = pl.read_csv(dataPath + \"csv_files/test/test_person_1.csv\").pipe(set_table_dtypes)\n",
        "test_credit_bureau_b_2 = pl.read_csv(dataPath + \"csv_files/test/test_credit_bureau_b_2.csv\").pipe(set_table_dtypes)"
      ],
      "metadata": {
        "execution": {
          "iopub.status.busy": "2024-02-07T21:25:16.161619Z",
          "iopub.execute_input": "2024-02-07T21:25:16.162856Z",
          "iopub.status.idle": "2024-02-07T21:25:16.23912Z",
          "shell.execute_reply.started": "2024-02-07T21:25:16.162811Z",
          "shell.execute_reply": "2024-02-07T21:25:16.238115Z"
        },
        "trusted": true,
        "id": "24Oiw0uejB3u"
      },
      "execution_count": null,
      "outputs": []
    },
    {
      "cell_type": "markdown",
      "source": [
        "## Feature engineering\n",
        "\n",
        "In this part, we can see a simple example of joining tables via `case_id`. Here the loading and joining is done with polars library. Polars library is blazingly fast and has much smaller memory footprint than pandas."
      ],
      "metadata": {
        "id": "WFhtpreVjB3u"
      }
    },
    {
      "cell_type": "code",
      "source": [
        "\"\"\"For the training set, extract and transform relevant information from the raw data\n",
        "from the loaded csv files to create features that can be used for training the model\n",
        "\"\"\"\"\n",
        "\n",
        "train_person_1_feats_1 = train_person_1.group_by(\"case_id\").agg(\n",
        "    pl.col(\"mainoccupationinc_384A\").max().alias(\"mainoccupationinc_384A_max\"),\n",
        "    (pl.col(\"incometype_1044T\") == \"SELFEMPLOYED\").max().alias(\"mainoccupationinc_384A_any_selfemployed\")\n",
        ")\n",
        "\n",
        "\n",
        "train_person_1_feats_2 = train_person_1.select([\"case_id\", \"num_group1\", \"housetype_905L\"]).filter(\n",
        "    pl.col(\"num_group1\") == 0\n",
        ").drop(\"num_group1\").rename({\"housetype_905L\": \"person_housetype\"})\n",
        "\n",
        "\n",
        "train_credit_bureau_b_2_feats = train_credit_bureau_b_2.group_by(\"case_id\").agg(\n",
        "    pl.col(\"pmts_pmtsoverdue_635A\").max().alias(\"pmts_pmtsoverdue_635A_max\"),\n",
        "    (pl.col(\"pmts_dpdvalue_108P\") > 31).max().alias(\"pmts_dpdvalue_108P_over31\")\n",
        ")\n",
        "\n",
        "\n",
        "selected_static_cols = []\n",
        "for col in train_static.columns:\n",
        "    if col[-1] in (\"A\", \"M\"):\n",
        "        selected_static_cols.append(col)\n",
        "print(selected_static_cols)\n",
        "\n",
        "selected_static_cb_cols = []\n",
        "for col in train_static_cb.columns:\n",
        "    if col[-1] in (\"A\", \"M\"):\n",
        "        selected_static_cb_cols.append(col)\n",
        "print(selected_static_cb_cols)\n",
        "\n",
        "\n",
        "data = train_basetable.join(\n",
        "    train_static.select([\"case_id\"]+selected_static_cols), how=\"left\", on=\"case_id\"\n",
        ").join(\n",
        "    train_static_cb.select([\"case_id\"]+selected_static_cb_cols), how=\"left\", on=\"case_id\"\n",
        ").join(\n",
        "    train_person_1_feats_1, how=\"left\", on=\"case_id\"\n",
        ").join(\n",
        "    train_person_1_feats_2, how=\"left\", on=\"case_id\"\n",
        ").join(\n",
        "    train_credit_bureau_b_2_feats, how=\"left\", on=\"case_id\"\n",
        ")"
      ],
      "metadata": {
        "execution": {
          "iopub.status.busy": "2024-02-07T21:25:16.24057Z",
          "iopub.execute_input": "2024-02-07T21:25:16.24119Z",
          "iopub.status.idle": "2024-02-07T21:25:18.454532Z",
          "shell.execute_reply.started": "2024-02-07T21:25:16.241152Z",
          "shell.execute_reply": "2024-02-07T21:25:18.452798Z"
        },
        "trusted": true,
        "id": "gycqZqlCjB3w"
      },
      "execution_count": null,
      "outputs": []
    },
    {
      "cell_type": "code",
      "source": [
        "# Process the test set\n",
        "\n",
        "test_person_1_feats_1 = test_person_1.group_by(\"case_id\").agg(\n",
        "    pl.col(\"mainoccupationinc_384A\").max().alias(\"mainoccupationinc_384A_max\"),\n",
        "    (pl.col(\"incometype_1044T\") == \"SELFEMPLOYED\").max().alias(\"mainoccupationinc_384A_any_selfemployed\")\n",
        ")\n",
        "\n",
        "test_person_1_feats_2 = test_person_1.select([\"case_id\", \"num_group1\", \"housetype_905L\"]).filter(\n",
        "    pl.col(\"num_group1\") == 0\n",
        ").drop(\"num_group1\").rename({\"housetype_905L\": \"person_housetype\"})\n",
        "\n",
        "test_credit_bureau_b_2_feats = test_credit_bureau_b_2.group_by(\"case_id\").agg(\n",
        "    pl.col(\"pmts_pmtsoverdue_635A\").max().alias(\"pmts_pmtsoverdue_635A_max\"),\n",
        "    (pl.col(\"pmts_dpdvalue_108P\") > 31).max().alias(\"pmts_dpdvalue_108P_over31\")\n",
        ")\n",
        "\n",
        "data_submission = test_basetable.join(\n",
        "    test_static.select([\"case_id\"]+selected_static_cols), how=\"left\", on=\"case_id\"\n",
        ").join(\n",
        "    test_static_cb.select([\"case_id\"]+selected_static_cb_cols), how=\"left\", on=\"case_id\"\n",
        ").join(\n",
        "    test_person_1_feats_1, how=\"left\", on=\"case_id\"\n",
        ").join(\n",
        "    test_person_1_feats_2, how=\"left\", on=\"case_id\"\n",
        ").join(\n",
        "    test_credit_bureau_b_2_feats, how=\"left\", on=\"case_id\"\n",
        ")"
      ],
      "metadata": {
        "execution": {
          "iopub.status.busy": "2024-02-07T21:25:18.455848Z",
          "iopub.execute_input": "2024-02-07T21:25:18.456308Z",
          "iopub.status.idle": "2024-02-07T21:25:18.474933Z",
          "shell.execute_reply.started": "2024-02-07T21:25:18.456258Z",
          "shell.execute_reply": "2024-02-07T21:25:18.473491Z"
        },
        "trusted": true,
        "id": "JD0JSqh3jB30"
      },
      "execution_count": null,
      "outputs": []
    },
    {
      "cell_type": "code",
      "source": [
        "# Divide dataset into training, validation, and test sets\n",
        "\n",
        "case_ids = data[\"case_id\"].unique().shuffle(seed=1)\n",
        "case_ids_train, case_ids_test = train_test_split(case_ids, train_size=0.6, random_state=1)\n",
        "case_ids_valid, case_ids_test = train_test_split(case_ids_test, train_size=0.5, random_state=1)\n",
        "\n",
        "cols_pred = []\n",
        "for col in data.columns:\n",
        "    if col[-1].isupper() and col[:-1].islower():\n",
        "        cols_pred.append(col)\n",
        "\n",
        "print(cols_pred)\n",
        "\n",
        "def from_polars_to_pandas(case_ids: pl.DataFrame) -> pl.DataFrame:\n",
        "    return (\n",
        "        data.filter(pl.col(\"case_id\").is_in(case_ids))[[\"case_id\", \"WEEK_NUM\", \"target\"]].to_pandas(),\n",
        "        data.filter(pl.col(\"case_id\").is_in(case_ids))[cols_pred].to_pandas(),\n",
        "        data.filter(pl.col(\"case_id\").is_in(case_ids))[\"target\"].to_pandas()\n",
        "    )\n",
        "\n",
        "base_train, X_train, y_train = from_polars_to_pandas(case_ids_train)\n",
        "base_valid, X_valid, y_valid = from_polars_to_pandas(case_ids_valid)\n",
        "base_test, X_test, y_test = from_polars_to_pandas(case_ids_test)\n",
        "\n",
        "for df in [X_train, X_valid, X_test]:\n",
        "    df = convert_strings(df)"
      ],
      "metadata": {
        "execution": {
          "iopub.status.busy": "2024-02-07T21:25:18.47705Z",
          "iopub.execute_input": "2024-02-07T21:25:18.477539Z",
          "iopub.status.idle": "2024-02-07T21:25:28.525841Z",
          "shell.execute_reply.started": "2024-02-07T21:25:18.477494Z",
          "shell.execute_reply": "2024-02-07T21:25:28.524407Z"
        },
        "trusted": true,
        "id": "DXF10QDijB32"
      },
      "execution_count": null,
      "outputs": []
    },
    {
      "cell_type": "code",
      "source": [
        "# Display number of rows and columns of the training, validation, and test sets.\n",
        "\n",
        "print(f\"Train: {X_train.shape}\")\n",
        "print(f\"Valid: {X_valid.shape}\")\n",
        "print(f\"Test: {X_test.shape}\")"
      ],
      "metadata": {
        "execution": {
          "iopub.status.busy": "2024-02-07T21:25:28.52813Z",
          "iopub.execute_input": "2024-02-07T21:25:28.529014Z",
          "iopub.status.idle": "2024-02-07T21:25:28.534479Z",
          "shell.execute_reply.started": "2024-02-07T21:25:28.528913Z",
          "shell.execute_reply": "2024-02-07T21:25:28.53334Z"
        },
        "trusted": true,
        "id": "bynTiWsnjB33"
      },
      "execution_count": null,
      "outputs": []
    },
    {
      "cell_type": "markdown",
      "source": [
        "## Training LightGBM\n",
        "\n",
        "Minimal example of LightGBM training is shown below."
      ],
      "metadata": {
        "id": "xc1aqI7jjB34"
      }
    },
    {
      "cell_type": "code",
      "source": [
        "lgb_train = lgb.Dataset(X_train, label=y_train)\n",
        "lgb_valid = lgb.Dataset(X_valid, label=y_valid, reference=lgb_train)\n",
        "\n",
        "params = {\n",
        "    \"boosting_type\": \"gbdt\",\n",
        "    \"objective\": \"binary\",\n",
        "    \"metric\": \"auc\",\n",
        "    \"max_depth\": 3,\n",
        "    \"num_leaves\": 31,\n",
        "    \"learning_rate\": 0.05,\n",
        "    \"feature_fraction\": 0.9,\n",
        "    \"bagging_fraction\": 0.8,\n",
        "    \"bagging_freq\": 5,\n",
        "    \"n_estimators\": 1000,\n",
        "    \"verbose\": -1,\n",
        "}\n",
        "\n",
        "gbm = lgb.train(\n",
        "    params,\n",
        "    lgb_train,\n",
        "    valid_sets=lgb_valid,\n",
        "    callbacks=[lgb.log_evaluation(50), lgb.early_stopping(10)]\n",
        ")"
      ],
      "metadata": {
        "execution": {
          "iopub.status.busy": "2024-02-07T21:25:28.535756Z",
          "iopub.execute_input": "2024-02-07T21:25:28.536641Z",
          "iopub.status.idle": "2024-02-07T21:26:56.543315Z",
          "shell.execute_reply.started": "2024-02-07T21:25:28.5366Z",
          "shell.execute_reply": "2024-02-07T21:26:56.541627Z"
        },
        "trusted": true,
        "id": "AlybEbizjB34"
      },
      "execution_count": null,
      "outputs": []
    },
    {
      "cell_type": "markdown",
      "source": [
        "Evaluation with AUC and then comparison with the stability metric is shown below."
      ],
      "metadata": {
        "id": "L2XCDSMnjB35"
      }
    },
    {
      "cell_type": "code",
      "source": [
        "for base, X in [(base_train, X_train), (base_valid, X_valid), (base_test, X_test)]:\n",
        "    y_pred = gbm.predict(X, num_iteration=gbm.best_iteration)\n",
        "    base[\"score\"] = y_pred\n",
        "\n",
        "print(f'The AUC score on the train set is: {roc_auc_score(base_train[\"target\"], base_train[\"score\"])}')\n",
        "print(f'The AUC score on the valid set is: {roc_auc_score(base_valid[\"target\"], base_valid[\"score\"])}')\n",
        "print(f'The AUC score on the test set is: {roc_auc_score(base_test[\"target\"], base_test[\"score\"])}')"
      ],
      "metadata": {
        "execution": {
          "iopub.status.busy": "2024-02-07T21:26:56.547044Z",
          "iopub.execute_input": "2024-02-07T21:26:56.547522Z",
          "iopub.status.idle": "2024-02-07T21:27:22.5052Z",
          "shell.execute_reply.started": "2024-02-07T21:26:56.547479Z",
          "shell.execute_reply": "2024-02-07T21:27:22.503776Z"
        },
        "trusted": true,
        "id": "8TQCxtAtjB37"
      },
      "execution_count": null,
      "outputs": []
    },
    {
      "cell_type": "code",
      "source": [
        "def gini_stability(base, w_fallingrate=88.0, w_resstd=-0.5):\n",
        "    gini_in_time = base.loc[:, [\"WEEK_NUM\", \"target\", \"score\"]]\\\n",
        "        .sort_values(\"WEEK_NUM\")\\\n",
        "        .groupby(\"WEEK_NUM\")[[\"target\", \"score\"]]\\\n",
        "        .apply(lambda x: 2*roc_auc_score(x[\"target\"], x[\"score\"])-1).tolist()\n",
        "\n",
        "    x = np.arange(len(gini_in_time))\n",
        "    y = gini_in_time\n",
        "    a, b = np.polyfit(x, y, 1)\n",
        "    y_hat = a*x + b\n",
        "    residuals = y - y_hat\n",
        "    res_std = np.std(residuals)\n",
        "    avg_gini = np.mean(gini_in_time)\n",
        "    return avg_gini + w_fallingrate * min(0, a) + w_resstd * res_std\n",
        "\n",
        "stability_score_train = gini_stability(base_train)\n",
        "stability_score_valid = gini_stability(base_valid)\n",
        "stability_score_test = gini_stability(base_test)\n",
        "\n",
        "print(f'The stability score on the train set is: {stability_score_train}')\n",
        "print(f'The stability score on the valid set is: {stability_score_valid}')\n",
        "print(f'The stability score on the test set is: {stability_score_test}')"
      ],
      "metadata": {
        "execution": {
          "iopub.status.busy": "2024-02-07T21:27:22.506645Z",
          "iopub.execute_input": "2024-02-07T21:27:22.507036Z",
          "iopub.status.idle": "2024-02-07T21:27:23.796452Z",
          "shell.execute_reply.started": "2024-02-07T21:27:22.507Z",
          "shell.execute_reply": "2024-02-07T21:27:23.79501Z"
        },
        "trusted": true,
        "id": "B3cwqK6ZjB37"
      },
      "execution_count": null,
      "outputs": []
    }
  ]
}